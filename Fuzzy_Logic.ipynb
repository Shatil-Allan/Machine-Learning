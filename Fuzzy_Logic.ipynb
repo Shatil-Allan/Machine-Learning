{
 "cells": [
  {
   "cell_type": "code",
   "execution_count": 1,
   "metadata": {},
   "outputs": [
    {
     "name": "stdout",
     "output_type": "stream",
     "text": [
      "Collecting scikit-fuzzy\n",
      "\u001b[?25l  Downloading https://files.pythonhosted.org/packages/6c/f0/5eb5dbe0fd8dfe7d4651a8f4e591a196623a22b9e5339101e559695b4f6c/scikit-fuzzy-0.4.2.tar.gz (993kB)\n",
      "\u001b[K     |████████████████████████████████| 1.0MB 1.5MB/s eta 0:00:01\n",
      "\u001b[?25hRequirement already satisfied: numpy>=1.6.0 in ./anaconda3/lib/python3.7/site-packages (from scikit-fuzzy) (1.18.1)\n",
      "Requirement already satisfied: scipy>=0.9.0 in ./anaconda3/lib/python3.7/site-packages (from scikit-fuzzy) (1.3.2)\n",
      "Requirement already satisfied: networkx>=1.9.0 in ./anaconda3/lib/python3.7/site-packages (from scikit-fuzzy) (2.4)\n",
      "Requirement already satisfied: decorator>=4.3.0 in ./anaconda3/lib/python3.7/site-packages (from networkx>=1.9.0->scikit-fuzzy) (4.4.1)\n",
      "Building wheels for collected packages: scikit-fuzzy\n",
      "  Building wheel for scikit-fuzzy (setup.py) ... \u001b[?25ldone\n",
      "\u001b[?25h  Created wheel for scikit-fuzzy: filename=scikit_fuzzy-0.4.2-cp37-none-any.whl size=894070 sha256=7ca28103e84d4a5d57ae8d3be7061819999b1d68ce5b59242b3b6682774d3971\n",
      "  Stored in directory: /home/shatil/.cache/pip/wheels/b9/4e/77/da79b16f64ef1738d95486e2731eea09d73e90a72465096600\n",
      "Successfully built scikit-fuzzy\n",
      "Installing collected packages: scikit-fuzzy\n",
      "Successfully installed scikit-fuzzy-0.4.2\n"
     ]
    }
   ],
   "source": [
    "!pip install scikit-fuzzy"
   ]
  },
  {
   "cell_type": "code",
   "execution_count": 2,
   "metadata": {},
   "outputs": [],
   "source": [
    "import numpy as np\n",
    "import skfuzzy as fuzz\n",
    "from skfuzzy import control as ctrl\n",
    "import matplotlib.pyplot as plt\n",
    "%matplotlib inline"
   ]
  },
  {
   "cell_type": "code",
   "execution_count": 3,
   "metadata": {},
   "outputs": [],
   "source": [
    "class FuzzyPy():\n",
    "    # Defines TRiangular membership finction f:x->y, with 'a' and 'c' the base of triangle and 'b' is peak\n",
    "    def trimf(self, x, a, b, c):\n",
    "        X1 = (x - a) / (b - a)\n",
    "        X2 = (c - x) / (c - b)\n",
    "        X3 = np.minimum(X1, X2)\n",
    "        X4 = np.zeros(x.size)\n",
    "        y = np.maximum(X3, X4)\n",
    "        return y\n",
    "\n",
    "    # Defines Trapezoidal membership finction f:x->y, with 'a' and 'd' the base of trpezoid and 'b' and 'c' the shoulder\n",
    "    def trapmf(self, x, a, b, c, d):\n",
    "        X1 = (x - a) / (b - a)\n",
    "        X2 = np.ones(x.size)\n",
    "        X3 = (d - x) / (d - c)\n",
    "        X4 = np.minimum(np.minimum(X1, X2), X3)\n",
    "        X5 = np.zeros(x.size)\n",
    "        y = np.maximum(X4, X5)\n",
    "        return y\n",
    "\n",
    "    def gaussmf(self, x, c, v):\n",
    "        \"\"\"Compute Gaussian Membership function. \"\"\"\n",
    "        y = [np.exp(-np.power((i - c) , 2) / (2 * v ** 2.0)) for i in x]\n",
    "        return y\n",
    "    \n",
    "    def softmax(x):\n",
    "        \"\"\"Compute softmax values for each sets of scores in x.\"\"\"\n",
    "        return np.exp(x)/np.sum(np.exp(x), axis=0)\n",
    "    \n",
    "\n",
    "class Triangle(FuzzyPy):\n",
    "    def __init__(self, x, low, middle, high):\n",
    "        self.low = self.trimf(x, low[0], low[1], low[2])\n",
    "        self.middle = self.trimf(x, middle[0], middle[1], middle[2])\n",
    "        self.high = self.trimf(x, high[0], high[1], high[2])\n",
    "\n",
    "class Triangle5(FuzzyPy):\n",
    "    def __init__(self, x, low2,low1, middle, high1,high2):\n",
    "        self.low2 = self.trimf(x, low2[0], low2[1], low2[2])\n",
    "        self.low1 = self.trimf(x, low1[0], low1[1], low1[2])\n",
    "        self.middle = self.trimf(x, middle[0], middle[1], middle[2])\n",
    "        self.high1 = self.trimf(x, high1[0], high1[1], high1[2])\n",
    "        self.high2 = self.trimf(x, high2[0], high2[1], high2[2])\n",
    "\n",
    "class Trapezoid(FuzzyPy):\n",
    "    def __init__(self, x, low, middle, high):\n",
    "        self.low = self.trapmf(x, low[0], low[1], low[2], low[3])\n",
    "        self.middle = self.trapmf(x, middle[0], middle[1], middle[2], middle[3])\n",
    "        self.high = self.trapmf(x, high[0], high[1], high[2], high[3])\n",
    "\n",
    "class Trapezoid5(FuzzyPy):\n",
    "    def __init__(self, x, low2,low1, middle, high1,high2):\n",
    "        self.low2 = self.trapmf(x, low2[0], low2[1], low2[2], low2[3])\n",
    "        self.low1 = self.trapmf(x, low1[0], low1[1], low1[2], low1[3])\n",
    "        self.middle = self.trapmf(x, middle[0], middle[1], middle[2], middle[3])\n",
    "        self.high1 = self.trapmf(x, high1[0], high1[1], high1[2], high1[3])\n",
    "        self.high2 = self.trapmf(x, high2[0], high2[1], high2[2], high2[3])\n",
    "\n",
    "class Gauss(FuzzyPy):\n",
    "    def __init__(self, x, low, middle, high):\n",
    "        self.low = self.gaussmf(x, low[0], low[1])\n",
    "        self.middle = self.gaussmf(x, middle[0], middle[1])\n",
    "        self.high = self.gaussmf(x, high[0], high[1])\n",
    "\n",
    "class Gauss5(FuzzyPy):\n",
    "    def __init__(self, x, low2,low1, middle, high1,high2):\n",
    "        self.low2 = self.gaussmf(x, low2[0], low2[1])\n",
    "        self.low1 = self.gaussmf(x, low1[0], low1[1])\n",
    "        self.middle = self.gaussmf(x, middle[0], middle[1])\n",
    "        self.high1 = self.gaussmf(x, high1[0], high1[1])\n",
    "        self.high2 = self.gaussmf(x, high2[0], high2[1])\n",
    "        \n",
    "  ## Operators Defined\n",
    "\n",
    "def intersect(A,B):\n",
    "     \"\"\"Intersect two membership functions\"\"\"\n",
    "     return np.minimum(A,B)\n",
    "\n",
    "\n",
    "def union(A, B):\n",
    "    \"\"\"Union of two membership functions\"\"\"\n",
    "    return np.maximum(A, B)\n",
    "\n",
    "def complement(A):\n",
    "    \"\"\"complement of membership\"\"\"\n",
    "    return 1-A\n",
    "\n",
    "def alphaCut(A,a):\n",
    "    \"\"\"Alpha cut on membership function\"\"\"\n",
    "    from copy import deepcopy\n",
    "    B = deepcopy(A)\n",
    "    B[(B < a)]= 0\n",
    "    return B\n",
    "\n",
    "def add(A,B):\n",
    "    \"\"\"Adds two fuzzy membership functions/sets\"\"\"\n",
    "    return np.minimum(A+B,1)\n",
    "\n",
    "\n",
    "def sub(A,B):\n",
    "    \"\"\"Subtracts two fuzzy membership functions/sets\"\"\"\n",
    "    return np.maximum(A-B,0)"
   ]
  },
  {
   "cell_type": "code",
   "execution_count": 4,
   "metadata": {},
   "outputs": [],
   "source": [
    "def defuzz(x, mfx):\n",
    "   \n",
    "    sum_moment_area = 0.0\n",
    "    sum_area = 0.0\n",
    "\n",
    "    # If the membership function is a singleton fuzzy set:\n",
    "    if len(x) == 1:\n",
    "        return x[0]*mfx[0] / np.fmax(mfx[0], np.finfo(float).eps).astype(float)\n",
    "\n",
    "    # else return the sum of moment*area/sum of area\n",
    "    for i in range(1, len(x)):\n",
    "        x1 = x[i - 1]\n",
    "        x2 = x[i]\n",
    "        y1 = mfx[i - 1]\n",
    "        y2 = mfx[i]\n",
    "\n",
    "        # if y1 == y2 == 0.0 or x1==x2: --> rectangle of zero height or width\n",
    "        if not(y1 == y2 == 0.0 or x1 == x2):\n",
    "            if y1 == y2:  # rectangle\n",
    "                moment = 0.5 * (x1 + x2)\n",
    "                area = (x2 - x1) * y1\n",
    "            elif y1 == 0.0 and y2 != 0.0:  # triangle, height y2\n",
    "                moment = 2.0 / 3.0 * (x2-x1) + x1\n",
    "                area = 0.5 * (x2 - x1) * y2\n",
    "            elif y2 == 0.0 and y1 != 0.0:  # triangle, height y1\n",
    "                moment = 1.0 / 3.0 * (x2 - x1) + x1\n",
    "                area = 0.5 * (x2 - x1) * y1\n",
    "            else:\n",
    "                moment = (2.0 / 3.0 * (x2-x1) * (y2 + 0.5*y1)) / (y1+y2) + x1\n",
    "                area = 0.5 * (x2 - x1) * (y1 + y2)\n",
    "\n",
    "            sum_moment_area += moment * area\n",
    "            sum_area += area\n",
    "\n",
    "    return sum_moment_area / np.fmax(sum_area,\n",
    "np.finfo(float).eps).astype(float)"
   ]
  },
  {
   "cell_type": "code",
   "execution_count": 5,
   "metadata": {},
   "outputs": [],
   "source": [
    "volume = ctrl.Antecedent(np.arange(8, 21, 1), 'volume')\n",
    "temperature = ctrl.Antecedent(np.arange(-18, 0, 1), 'temperature')\n",
    "output = ctrl.Consequent(np.arange(0, 7, 1), 'output')"
   ]
  },
  {
   "cell_type": "code",
   "execution_count": 6,
   "metadata": {},
   "outputs": [],
   "source": [
    "volume['small']=fuzz.trimf(volume.universe, [8, 9, 10])\n",
    "volume['medium']=fuzz.trimf(volume.universe, [11, 13, 15])\n",
    "volume['large']=fuzz.trimf(volume.universe, [15, 18, 21])"
   ]
  },
  {
   "cell_type": "code",
   "execution_count": 7,
   "metadata": {},
   "outputs": [],
   "source": [
    "temperature['low']=fuzz.trimf(temperature.universe, [-18, -12, -9])\n",
    "temperature['medium']=fuzz.trimf(temperature.universe, [-9, -6, -3])\n",
    "temperature['high']=fuzz.trimf(temperature.universe, [-3, -1, 0])"
   ]
  },
  {
   "cell_type": "code",
   "execution_count": 8,
   "metadata": {},
   "outputs": [],
   "source": [
    "output['low'] = fuzz.trimf(output.universe, [0, 1, 2])\n",
    "output['medium'] = fuzz.trimf(output.universe, [2, 3, 5])\n",
    "output['high'] = fuzz.trimf(output.universe, [5, 6, 7])"
   ]
  },
  {
   "cell_type": "code",
   "execution_count": 9,
   "metadata": {},
   "outputs": [],
   "source": [
    "#volume['medium'].view()\n",
    "#temperature.view()\n",
    "#The higher number of knob means the colder environment of a refrigerator \n",
    "rule1 = ctrl.Rule(volume['small'] | temperature['low'], output['low'])\n",
    "rule2 = ctrl.Rule(volume['medium'], output['medium'])\n",
    "rule3 = ctrl.Rule(volume['large'] | temperature['high'], output['high'])\n",
    "rule4 = ctrl.Rule(temperature['high'], output['high'])"
   ]
  },
  {
   "cell_type": "code",
   "execution_count": 10,
   "metadata": {},
   "outputs": [],
   "source": [
    "tipping_ctrl = ctrl.ControlSystem([rule1, rule2, rule3])"
   ]
  },
  {
   "cell_type": "code",
   "execution_count": 11,
   "metadata": {},
   "outputs": [],
   "source": [
    "tipping = ctrl.ControlSystemSimulation(tipping_ctrl)"
   ]
  },
  {
   "cell_type": "code",
   "execution_count": 13,
   "metadata": {},
   "outputs": [],
   "source": [
    "#input volume=16 cm cube\n",
    "#input temperature= -2 degree celcius\n",
    "tipping.input['volume'] = 16\n",
    "tipping.input['temperature'] = -2\n",
    "\n",
    "# Crunch the numbers\n",
    "tipping.compute()"
   ]
  },
  {
   "cell_type": "code",
   "execution_count": 14,
   "metadata": {},
   "outputs": [
    {
     "name": "stdout",
     "output_type": "stream",
     "text": [
      "Cool Knob Position is= 5.611111111111111\n"
     ]
    }
   ],
   "source": [
    "#defuzzification by COG\n",
    "#tipping.defuzz()\n",
    "print(\"Cool Knob Position is=\",tipping.output['output'])\n",
    "#output.view(sim=tipping)"
   ]
  }
 ],
 "metadata": {
  "kernelspec": {
   "display_name": "Python 3",
   "language": "python",
   "name": "python3"
  },
  "language_info": {
   "codemirror_mode": {
    "name": "ipython",
    "version": 3
   },
   "file_extension": ".py",
   "mimetype": "text/x-python",
   "name": "python",
   "nbconvert_exporter": "python",
   "pygments_lexer": "ipython3",
   "version": "3.7.5"
  }
 },
 "nbformat": 4,
 "nbformat_minor": 2
}
